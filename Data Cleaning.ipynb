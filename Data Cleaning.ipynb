{
 "cells": [
  {
   "cell_type": "markdown",
   "id": "363c4725-ae1d-4755-908d-df6c22e84961",
   "metadata": {},
   "source": [
    "\n",
    "                                            **Task 3: Data Cleaning Day-2**"
   ]
  },
  {
   "cell_type": "markdown",
   "id": "0ef8645b-9e8f-489c-be1f-912d7f3dc231",
   "metadata": {},
   "source": [
    "**#Install Pandas and numpy**"
   ]
  },
  {
   "cell_type": "code",
   "execution_count": 32,
   "id": "f2846153-0720-451b-853a-e944c1853709",
   "metadata": {},
   "outputs": [],
   "source": [
    "import pandas as pd\n",
    "import numpy as np\n",
    "from sklearn.preprocessing import MinMaxScaler\n"
   ]
  },
  {
   "cell_type": "markdown",
   "id": "f9c94fce-8809-4fed-8970-fb4ef214f6e0",
   "metadata": {},
   "source": [
    "**#Load the CSV dataset**"
   ]
  },
  {
   "cell_type": "code",
   "execution_count": 19,
   "id": "bebeb4db-a267-4ca3-997f-3b81d99abe6b",
   "metadata": {},
   "outputs": [
    {
     "data": {
      "text/html": [
       "<div>\n",
       "<style scoped>\n",
       "    .dataframe tbody tr th:only-of-type {\n",
       "        vertical-align: middle;\n",
       "    }\n",
       "\n",
       "    .dataframe tbody tr th {\n",
       "        vertical-align: top;\n",
       "    }\n",
       "\n",
       "    .dataframe thead th {\n",
       "        text-align: right;\n",
       "    }\n",
       "</style>\n",
       "<table border=\"1\" class=\"dataframe\">\n",
       "  <thead>\n",
       "    <tr style=\"text-align: right;\">\n",
       "      <th></th>\n",
       "      <th>Name</th>\n",
       "      <th>Age</th>\n",
       "      <th>Salary</th>\n",
       "      <th>JoinDate</th>\n",
       "    </tr>\n",
       "  </thead>\n",
       "  <tbody>\n",
       "    <tr>\n",
       "      <th>0</th>\n",
       "      <td>Alice</td>\n",
       "      <td>25.0</td>\n",
       "      <td>50000.0</td>\n",
       "      <td>2020-01-15</td>\n",
       "    </tr>\n",
       "    <tr>\n",
       "      <th>1</th>\n",
       "      <td>Bob</td>\n",
       "      <td>30.0</td>\n",
       "      <td>60000.0</td>\n",
       "      <td>2019-06-01</td>\n",
       "    </tr>\n",
       "    <tr>\n",
       "      <th>2</th>\n",
       "      <td>Charlie</td>\n",
       "      <td>35.0</td>\n",
       "      <td>NaN</td>\n",
       "      <td>2021-03-20</td>\n",
       "    </tr>\n",
       "    <tr>\n",
       "      <th>3</th>\n",
       "      <td>David</td>\n",
       "      <td>NaN</td>\n",
       "      <td>70000.0</td>\n",
       "      <td>2020-11-11</td>\n",
       "    </tr>\n",
       "    <tr>\n",
       "      <th>4</th>\n",
       "      <td>Eve</td>\n",
       "      <td>45.0</td>\n",
       "      <td>80000.0</td>\n",
       "      <td>2018-07-23</td>\n",
       "    </tr>\n",
       "    <tr>\n",
       "      <th>5</th>\n",
       "      <td>Alice</td>\n",
       "      <td>25.0</td>\n",
       "      <td>50000.0</td>\n",
       "      <td>2020-01-15</td>\n",
       "    </tr>\n",
       "    <tr>\n",
       "      <th>6</th>\n",
       "      <td>Frank</td>\n",
       "      <td>40.0</td>\n",
       "      <td>75000.0</td>\n",
       "      <td>2019-09-10</td>\n",
       "    </tr>\n",
       "    <tr>\n",
       "      <th>7</th>\n",
       "      <td>NaN</td>\n",
       "      <td>22.0</td>\n",
       "      <td>48000.0</td>\n",
       "      <td>2022-01-01</td>\n",
       "    </tr>\n",
       "  </tbody>\n",
       "</table>\n",
       "</div>"
      ],
      "text/plain": [
       "      Name   Age   Salary    JoinDate\n",
       "0    Alice  25.0  50000.0  2020-01-15\n",
       "1      Bob  30.0  60000.0  2019-06-01\n",
       "2  Charlie  35.0      NaN  2021-03-20\n",
       "3    David   NaN  70000.0  2020-11-11\n",
       "4      Eve  45.0  80000.0  2018-07-23\n",
       "5    Alice  25.0  50000.0  2020-01-15\n",
       "6    Frank  40.0  75000.0  2019-09-10\n",
       "7      NaN  22.0  48000.0  2022-01-01"
      ]
     },
     "execution_count": 19,
     "metadata": {},
     "output_type": "execute_result"
    }
   ],
   "source": [
    "import pandas as pd\n",
    "df = pd.read_csv(r'C:\\Users\\Public\\Downloads\\sample_data.csv')\n",
    "df"
   ]
  },
  {
   "cell_type": "markdown",
   "id": "ca9c8d96-9745-4594-948c-defbd16356f3",
   "metadata": {},
   "source": [
    "**#Remove Missing Values**"
   ]
  },
  {
   "cell_type": "code",
   "execution_count": 20,
   "id": "3b6c3986-ddfd-4276-886f-f40d34bdc12a",
   "metadata": {},
   "outputs": [
    {
     "name": "stdout",
     "output_type": "stream",
     "text": [
      "After dropping missing values: (5, 4)\n"
     ]
    }
   ],
   "source": [
    "# Drop rows with missing values\n",
    "\n",
    "\n",
    "df_cleaned = df.dropna()\n",
    "\n",
    "\n",
    "# Check result\n",
    "\n",
    "\n",
    "print(\"After dropping missing values:\", df_cleaned.shape)\n"
   ]
  },
  {
   "cell_type": "markdown",
   "id": "4fa61334-8815-42d9-857c-66a8a973f69e",
   "metadata": {},
   "source": [
    "**# Convert Data Types**"
   ]
  },
  {
   "cell_type": "code",
   "execution_count": 43,
   "id": "6e21ccba-867f-4c42-be45-e294681554ce",
   "metadata": {},
   "outputs": [
    {
     "name": "stdout",
     "output_type": "stream",
     "text": [
      "Name                object\n",
      "Age                float64\n",
      "Salary             float64\n",
      "JoinDate    datetime64[ns]\n",
      "dtype: object\n"
     ]
    }
   ],
   "source": [
    "import pandas as pd\n",
    "\n",
    "df_cleaned.loc[:, 'Age'] = df_cleaned['Age'].astype(int)\n",
    "df_cleaned.loc[:, 'JoinDate'] = pd.to_datetime(df_cleaned['JoinDate'])\n",
    "\n",
    "# Check data types\n",
    "print(df_cleaned.dtypes)\n"
   ]
  },
  {
   "cell_type": "markdown",
   "id": "1694a0bc-4eec-4d86-b010-127b08526a04",
   "metadata": {},
   "source": [
    "**Normalize numeric columns (Age and Salary)**"
   ]
  },
  {
   "cell_type": "code",
   "execution_count": 44,
   "id": "c62c45bf-a785-40f9-9b06-c84d47c6bd52",
   "metadata": {},
   "outputs": [],
   "source": [
    "from sklearn.preprocessing import MinMaxScaler\n",
    "\n",
    "# Select numeric columns\n",
    "numeric_cols = ['Age', 'Salary']\n",
    "\n",
    "# Apply Min-Max Normalization safely\n",
    "scaler = MinMaxScaler()\n",
    "df_cleaned.loc[:, numeric_cols] = scaler.fit_transform(df_cleaned[numeric_cols])\n"
   ]
  },
  {
   "cell_type": "code",
   "execution_count": 45,
   "id": "24a103e3-6040-45b3-8388-45065ef2c5ad",
   "metadata": {},
   "outputs": [
    {
     "data": {
      "text/html": [
       "<div>\n",
       "<style scoped>\n",
       "    .dataframe tbody tr th:only-of-type {\n",
       "        vertical-align: middle;\n",
       "    }\n",
       "\n",
       "    .dataframe tbody tr th {\n",
       "        vertical-align: top;\n",
       "    }\n",
       "\n",
       "    .dataframe thead th {\n",
       "        text-align: right;\n",
       "    }\n",
       "</style>\n",
       "<table border=\"1\" class=\"dataframe\">\n",
       "  <thead>\n",
       "    <tr style=\"text-align: right;\">\n",
       "      <th></th>\n",
       "      <th>Age</th>\n",
       "      <th>Salary</th>\n",
       "    </tr>\n",
       "  </thead>\n",
       "  <tbody>\n",
       "    <tr>\n",
       "      <th>0</th>\n",
       "      <td>0.0</td>\n",
       "      <td>0.000000</td>\n",
       "    </tr>\n",
       "    <tr>\n",
       "      <th>1</th>\n",
       "      <td>0.0</td>\n",
       "      <td>0.333333</td>\n",
       "    </tr>\n",
       "    <tr>\n",
       "      <th>4</th>\n",
       "      <td>1.0</td>\n",
       "      <td>1.000000</td>\n",
       "    </tr>\n",
       "    <tr>\n",
       "      <th>5</th>\n",
       "      <td>0.0</td>\n",
       "      <td>0.000000</td>\n",
       "    </tr>\n",
       "    <tr>\n",
       "      <th>6</th>\n",
       "      <td>0.0</td>\n",
       "      <td>0.833333</td>\n",
       "    </tr>\n",
       "  </tbody>\n",
       "</table>\n",
       "</div>"
      ],
      "text/plain": [
       "   Age    Salary\n",
       "0  0.0  0.000000\n",
       "1  0.0  0.333333\n",
       "4  1.0  1.000000\n",
       "5  0.0  0.000000\n",
       "6  0.0  0.833333"
      ]
     },
     "execution_count": 45,
     "metadata": {},
     "output_type": "execute_result"
    }
   ],
   "source": [
    "df_cleaned[numeric_cols].head()\n"
   ]
  },
  {
   "cell_type": "markdown",
   "id": "1d352f6a-4ae5-448b-bf4e-4031dedaf8f3",
   "metadata": {},
   "source": [
    "**Save And Clean data**"
   ]
  },
  {
   "cell_type": "code",
   "execution_count": 61,
   "id": "dc5cf4bc-5fb3-4586-b1cf-41a6bd23af7d",
   "metadata": {},
   "outputs": [
    {
     "name": "stdout",
     "output_type": "stream",
     "text": [
      "save successfuly\n"
     ]
    }
   ],
   "source": [
    "cleaned_path = r'C:\\Users\\Dell\\Downloads\\cleaned_data.csv'\n",
    "df_cleaned.to_csv(cleaned_path, index=False)\n",
    "\n",
    "print('save successfuly')\n"
   ]
  },
  {
   "cell_type": "markdown",
   "id": "77cfdaea-eb89-48cf-9a8d-ae8f6c2e7e35",
   "metadata": {},
   "source": [
    "**What i done** \n"
   ]
  },
  {
   "cell_type": "markdown",
   "id": "933c0771-5ebe-4dc9-8252-f66bf5b1170b",
   "metadata": {},
   "source": [
    "Loaded raw data (sample_data.csv)\n",
    "\n",
    "Removed missing and duplicate rows\n",
    "\n",
    "Converted column types (Age to int, JoinDate to datetime)\n",
    "\n",
    "Normalized numeric columns (Age, Salary)\n",
    "\n",
    "Saved cleaned data to cleaned_data.csv"
   ]
  }
 ],
 "metadata": {
  "kernelspec": {
   "display_name": "Python 3 (ipykernel)",
   "language": "python",
   "name": "python3"
  },
  "language_info": {
   "codemirror_mode": {
    "name": "ipython",
    "version": 3
   },
   "file_extension": ".py",
   "mimetype": "text/x-python",
   "name": "python",
   "nbconvert_exporter": "python",
   "pygments_lexer": "ipython3",
   "version": "3.12.7"
  }
 },
 "nbformat": 4,
 "nbformat_minor": 5
}
